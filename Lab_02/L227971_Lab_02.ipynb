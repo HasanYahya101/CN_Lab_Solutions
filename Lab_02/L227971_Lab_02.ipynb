{
 "cells": [
  {
   "cell_type": "code",
   "execution_count": 4,
   "metadata": {},
   "outputs": [
    {
     "name": "stdout",
     "output_type": "stream",
     "text": [
      "Number of chickens: 5\n",
      "Number of chickens: many\n"
     ]
    }
   ],
   "source": [
    "# Task: 01\n",
    "def chickens(count):\n",
    "    if count >= 10:\n",
    "        return \"Number of chickens: many\"\n",
    "    return f\"Number of chickens: {count}\"\n",
    "\n",
    "print(chickens(5))\n",
    "print(chickens(10))"
   ]
  },
  {
   "cell_type": "code",
   "execution_count": 7,
   "metadata": {},
   "outputs": [
    {
     "name": "stdout",
     "output_type": "stream",
     "text": [
      "intnce\n",
      "\n"
     ]
    }
   ],
   "source": [
    "# Task: 02\n",
    "def get_edges(s):\n",
    "    if len(s) < 3:\n",
    "        return \"\"\n",
    "    return s[:3] + s[-3:]\n",
    "\n",
    "print(get_edges(\"intelligence\"))\n",
    "print(get_edges(\"on\"))"
   ]
  },
  {
   "cell_type": "code",
   "execution_count": 1,
   "metadata": {},
   "outputs": [
    {
     "name": "stdout",
     "output_type": "stream",
     "text": [
      "O@@gle\n",
      "Look\n",
      "a\n"
     ]
    }
   ],
   "source": [
    "# Task: 03\n",
    "def replace_char(s):\n",
    "    if len(s) <= 1:\n",
    "        return s\n",
    "    first_char = s[0]\n",
    "    rest = s[1:]\n",
    "    return first_char + rest.replace(first_char.lower(), '@').replace(first_char.upper(), '@')\n",
    "    \n",
    "print(replace_char('Ooogle'))\n",
    "print(replace_char('Look'))\n",
    "print(replace_char('a'))"
   ]
  },
  {
   "cell_type": "code",
   "execution_count": 10,
   "metadata": {},
   "outputs": [
    {
     "name": "stdout",
     "output_type": "stream",
     "text": [
      "pox mid\n",
      "dig donner\n"
     ]
    }
   ],
   "source": [
    "# Task: 04\n",
    "def mix_string(a, b):\n",
    "    new_a = b[:2] + a[2:]\n",
    "    new_b = a[:2] + b[2:]\n",
    "    return new_a + ' ' + new_b\n",
    "\n",
    "print(mix_string('mix', 'pod'))\n",
    "print(mix_string('dog', 'dinner'))"
   ]
  },
  {
   "cell_type": "code",
   "execution_count": 11,
   "metadata": {},
   "outputs": [
    {
     "name": "stdout",
     "output_type": "stream",
     "text": [
      "3\n",
      "2\n"
     ]
    }
   ],
   "source": [
    "# Task: 05\n",
    "def match_ends(words):\n",
    "    count = 0\n",
    "    for word in words:\n",
    "        if len(word) >= 2 and word[0] == word[-1]:\n",
    "            count += 1\n",
    "    return count\n",
    "\n",
    "print(match_ends(['aba', 'xyz', 'aa', 'x', 'bbb']))\n",
    "print(match_ends(['', 'x', 'xy', 'xyx', 'xx']))"
   ]
  },
  {
   "cell_type": "code",
   "execution_count": 12,
   "metadata": {},
   "outputs": [
    {
     "name": "stdout",
     "output_type": "stream",
     "text": [
      "['aardvark', 'apple', 'mix', 'xanadu', 'xyz']\n"
     ]
    }
   ],
   "source": [
    "# Task: 06\n",
    "def front_a(words):\n",
    "    a_words = []\n",
    "    other_words = []\n",
    "    for word in words:\n",
    "        if word.startswith('a'):\n",
    "            a_words.append(word)\n",
    "        else:\n",
    "            other_words.append(word)\n",
    "    return sorted(a_words) + sorted(other_words)\n",
    "\n",
    "print(front_a(['mix', 'xyz', 'apple', 'xanadu', 'aardvark']))"
   ]
  },
  {
   "cell_type": "code",
   "execution_count": 13,
   "metadata": {},
   "outputs": [
    {
     "name": "stdout",
     "output_type": "stream",
     "text": [
      "[(2, 2), (1, 3), (3, 4, 5), (1, 7)]\n",
      "[(1, 1), (3, 2), (2, 3)]\n"
     ]
    }
   ],
   "source": [
    "# Task: 07\n",
    "def sort_last(tuples):\n",
    "    return sorted(tuples, key=lambda x: x[-1])\n",
    "\n",
    "print(sort_last([(1, 7), (1, 3), (3, 4, 5), (2, 2)]))\n",
    "print(sort_last([(3, 2), (1, 1), (2, 3)]))"
   ]
  },
  {
   "cell_type": "code",
   "execution_count": 14,
   "metadata": {},
   "outputs": [
    {
     "name": "stdout",
     "output_type": "stream",
     "text": [
      "True\n",
      "False\n",
      "True\n"
     ]
    }
   ],
   "source": [
    "# Task: 08\n",
    "def is_palindrome(s):\n",
    "    s = ''.join(c.lower() for c in s if c.isalnum())\n",
    "    return s == s[::-1]\n",
    "\n",
    "print(is_palindrome(\"A man, a plan, a canal: Panama\"))\n",
    "print(is_palindrome(\"race a car\"))\n",
    "print(is_palindrome(\"\"))"
   ]
  },
  {
   "cell_type": "code",
   "execution_count": 15,
   "metadata": {},
   "outputs": [
    {
     "name": "stdout",
     "output_type": "stream",
     "text": [
      "[1, 2, 3, 4, 5]\n",
      "[1, 2, 3, 4, 5, 6]\n"
     ]
    }
   ],
   "source": [
    "# Task: 09\n",
    "def flatten_list(nested_list):\n",
    "    flat_list = []\n",
    "    for item in nested_list:\n",
    "        if isinstance(item, list):\n",
    "            flat_list.extend(flatten_list(item))\n",
    "        else:\n",
    "            flat_list.append(item)\n",
    "    return flat_list\n",
    "\n",
    "print(flatten_list([[1, 2, 3], [4, 5]]))\n",
    "print(flatten_list([[1, [2, 3]], [4], [5, 6]]))"
   ]
  },
  {
   "cell_type": "code",
   "execution_count": 16,
   "metadata": {},
   "outputs": [
    {
     "name": "stdout",
     "output_type": "stream",
     "text": [
      "[2, 4]\n",
      "[2, 3]\n",
      "[]\n"
     ]
    }
   ],
   "source": [
    "# Task: 10\n",
    "def common_elements(list1, list2):\n",
    "    return list(set(list1) & set(list2))\n",
    "\n",
    "print(common_elements([1, 2, 3, 4], [2, 4, 6, 8]))\n",
    "print(common_elements([1, 2, 2, 3], [2, 2, 3, 4]))\n",
    "print(common_elements([1, 2, 3], [4, 5, 6]))"
   ]
  },
  {
   "cell_type": "code",
   "execution_count": 17,
   "metadata": {},
   "outputs": [
    {
     "name": "stdout",
     "output_type": "stream",
     "text": [
      "True\n",
      "False\n",
      "True\n"
     ]
    }
   ],
   "source": [
    "# Task: 11\n",
    "def is_anagram(str1, str2):\n",
    "    str1 = ''.join(c.lower() for c in str1 if c.isalnum())\n",
    "    str2 = ''.join(c.lower() for c in str2 if c.isalnum())\n",
    "    return sorted(str1) == sorted(str2)\n",
    "\n",
    "print(is_anagram('cinema', 'iceman'))\n",
    "print(is_anagram('hello', 'world'))\n",
    "print(is_anagram('A decimal point', 'Im a dot in place'))"
   ]
  },
  {
   "cell_type": "code",
   "execution_count": 19,
   "metadata": {},
   "outputs": [
    {
     "name": "stdout",
     "output_type": "stream",
     "text": [
      "2\n",
      "-1\n",
      "-1\n"
     ]
    }
   ],
   "source": [
    "# Task: 12\n",
    "def binary_search(arr, target):\n",
    "    left = 0\n",
    "    right = len(arr) - 1\n",
    "    \n",
    "    while left <= right:\n",
    "        mid = (left + right) // 2\n",
    "        if arr[mid] == target:\n",
    "            return mid\n",
    "        elif arr[mid] < target:\n",
    "            left = mid + 1\n",
    "        else:\n",
    "            right = mid - 1\n",
    "    \n",
    "    return -1\n",
    "\n",
    "print(binary_search([1, 2, 3, 4, 5], 3))\n",
    "print(binary_search([1, 3, 5, 7, 9], 6))\n",
    "print(binary_search([], 1))"
   ]
  },
  {
   "cell_type": "code",
   "execution_count": 20,
   "metadata": {},
   "outputs": [
    {
     "name": "stdout",
     "output_type": "stream",
     "text": [
      "[11, 12, 22, 25, 34, 64, 90]\n",
      "[1, 2, 3, 5, 8, 9]\n",
      "[]\n"
     ]
    }
   ],
   "source": [
    "# Task: 13\n",
    "def merge_sort(arr):\n",
    "    if len(arr) <= 1:\n",
    "        return arr\n",
    "    \n",
    "    mid = len(arr) // 2\n",
    "    left = merge_sort(arr[:mid])\n",
    "    right = merge_sort(arr[mid:])\n",
    "    \n",
    "    return merge(left, right)\n",
    "\n",
    "def merge(left, right):\n",
    "    result = []\n",
    "    i = j = 0\n",
    "    \n",
    "    while i < len(left) and j < len(right):\n",
    "        if left[i] <= right[j]:\n",
    "            result.append(left[i])\n",
    "            i += 1\n",
    "        else:\n",
    "            result.append(right[j])\n",
    "            j += 1\n",
    "    \n",
    "    result.extend(left[i:])\n",
    "    result.extend(right[j:])\n",
    "    return result\n",
    "\n",
    "print(merge_sort([64, 34, 25, 12, 22, 11, 90]))\n",
    "print(merge_sort([5, 2, 8, 1, 9, 3]))\n",
    "print(merge_sort([]))"
   ]
  },
  {
   "cell_type": "code",
   "execution_count": 23,
   "metadata": {},
   "outputs": [
    {
     "name": "stdout",
     "output_type": "stream",
     "text": [
      "[11, 12, 22, 25, 34, 64, 90]\n",
      "[1, 2, 3, 5, 8, 9]\n",
      "[]\n"
     ]
    }
   ],
   "source": [
    "# Task: 14\n",
    "def quick_sort(arr):\n",
    "    if len(arr) <= 1:\n",
    "        return arr\n",
    "    \n",
    "    pivot = arr[len(arr) // 2]\n",
    "    left = [x for x in arr if x < pivot]\n",
    "    middle = [x for x in arr if x == pivot]\n",
    "    right = [x for x in arr if x > pivot]\n",
    "    \n",
    "    return quick_sort(left) + middle + quick_sort(right)\n",
    "\n",
    "print(quick_sort([64, 34, 25, 12, 22, 11, 90]))\n",
    "print(quick_sort([5, 2, 8, 1, 9, 3]))\n",
    "print(quick_sort([]))"
   ]
  },
  {
   "cell_type": "code",
   "execution_count": 21,
   "metadata": {},
   "outputs": [
    {
     "name": "stdout",
     "output_type": "stream",
     "text": [
      "{1: 1, 2: 3, 3: 1, 4: 1}\n",
      "{1: 4}\n",
      "{}\n"
     ]
    }
   ],
   "source": [
    "# Task: 15\n",
    "def count_frequency(numbers):\n",
    "    frequency = {}\n",
    "    for num in numbers:\n",
    "        frequency[num] = frequency.get(num, 0) + 1\n",
    "    return frequency\n",
    "\n",
    "print(count_frequency([1, 2, 2, 3, 4, 2]))\n",
    "print(count_frequency([1, 1, 1, 1]))\n",
    "print(count_frequency([]))"
   ]
  },
  {
   "cell_type": "code",
   "execution_count": 22,
   "metadata": {},
   "outputs": [
    {
     "name": "stdout",
     "output_type": "stream",
     "text": [
      "4\n",
      "1\n",
      "0\n"
     ]
    }
   ],
   "source": [
    "# Task: 16\n",
    "def count_distinct(numbers):\n",
    "    return len(set(numbers))\n",
    "\n",
    "print(count_distinct([1, 2, 2, 3, 4, 2]))\n",
    "print(count_distinct([1, 1, 1, 1]))\n",
    "print(count_distinct([]))"
   ]
  },
  {
   "cell_type": "code",
   "execution_count": 24,
   "metadata": {},
   "outputs": [
    {
     "name": "stdout",
     "output_type": "stream",
     "text": [
      "({1, 2, 3, 4}, {2, 3})\n",
      "({1, 2, 3, 4}, set())\n",
      "({1, 2, 3}, set())\n"
     ]
    }
   ],
   "source": [
    "# Task: 17\n",
    "def set_operations(set1, set2):\n",
    "    union = set1.union(set2)\n",
    "    intersection = set1.intersection(set2)\n",
    "    return (union, intersection)\n",
    "\n",
    "print(set_operations({1, 2, 3}, {2, 3, 4}))\n",
    "print(set_operations({1, 2}, {3, 4}))\n",
    "print(set_operations(set(), {1, 2, 3}))"
   ]
  },
  {
   "cell_type": "code",
   "execution_count": 25,
   "metadata": {},
   "outputs": [
    {
     "name": "stdout",
     "output_type": "stream",
     "text": [
      "[1, 2, 3]\n",
      "['hello', 'world']\n",
      "[]\n"
     ]
    }
   ],
   "source": [
    "# Task: 18\n",
    "def get_unique_values(dictionary):\n",
    "    return list(set(dictionary.values()))\n",
    "\n",
    "print(get_unique_values({'a': 1, 'b': 2, 'c': 1, 'd': 3}))\n",
    "print(get_unique_values({'x': 'hello', 'y': 'world', 'z': 'hello'}))\n",
    "print(get_unique_values({}))"
   ]
  },
  {
   "cell_type": "code",
   "execution_count": 26,
   "metadata": {},
   "outputs": [
    {
     "name": "stdout",
     "output_type": "stream",
     "text": [
      "['a', 'c']\n",
      "['x', 'z']\n",
      "[]\n"
     ]
    }
   ],
   "source": [
    "# Task: 19\n",
    "def most_frequent_values(dictionary):\n",
    "    if not dictionary:\n",
    "        return []\n",
    "        \n",
    "    value_freq = {}\n",
    "    for value in dictionary.values():\n",
    "        value_freq[value] = value_freq.get(value, 0) + 1\n",
    "    \n",
    "    max_freq = max(value_freq.values())\n",
    "    \n",
    "    return [key for key, value in dictionary.items() \n",
    "            if value_freq[value] == max_freq]\n",
    "\n",
    "print(most_frequent_values({'a': 1, 'b': 2, 'c': 1, 'd': 3}))\n",
    "print(most_frequent_values({'x': 'hello', 'y': 'world', 'z': 'hello'}))\n",
    "print(most_frequent_values({}))"
   ]
  },
  {
   "cell_type": "code",
   "execution_count": 27,
   "metadata": {},
   "outputs": [
    {
     "name": "stdout",
     "output_type": "stream",
     "text": [
      "{'b': 2, 'c': 4, 'a': 1}\n",
      "{'y': 'world', 'x': 'hello'}\n",
      "{'a': 1, 'b': 2}\n"
     ]
    }
   ],
   "source": [
    "# Task: 20\n",
    "def merge_dictionaries(d1, d2):\n",
    "    result = d2.copy()\n",
    "    result.update(d1)\n",
    "    return result\n",
    "\n",
    "print(merge_dictionaries({'a': 1, 'b': 2}, {'b': 3, 'c': 4}))\n",
    "print(merge_dictionaries({'x': 'hello'}, {'y': 'world'}))\n",
    "print(merge_dictionaries({}, {'a': 1, 'b': 2}))"
   ]
  },
  {
   "cell_type": "code",
   "execution_count": 28,
   "metadata": {},
   "outputs": [
    {
     "name": "stdout",
     "output_type": "stream",
     "text": [
      "[{'a': 1, 'b': 2}, {'a': 4, 'c': 5}]\n",
      "[{'x': 1}]\n",
      "[]\n"
     ]
    }
   ],
   "source": [
    "# Task: 21\n",
    "def filter_dicts_by_key(dict_list, key):\n",
    "    return [d for d in dict_list if key in d]\n",
    "\n",
    "print(filter_dicts_by_key([{'a': 1, 'b': 2}, {'b': 3}, {'a': 4, 'c': 5}], 'a'))\n",
    "print(filter_dicts_by_key([{'x': 1}, {'y': 2}, {'z': 3}], 'x'))\n",
    "print(filter_dicts_by_key([], 'key'))"
   ]
  },
  {
   "cell_type": "code",
   "execution_count": 29,
   "metadata": {},
   "outputs": [
    {
     "name": "stdout",
     "output_type": "stream",
     "text": [
      "[2, 4]\n",
      "['a', 'b']\n",
      "[1]\n"
     ]
    }
   ],
   "source": [
    "# Task: 22\n",
    "def find_duplicates(lst):\n",
    "    frequency = {}\n",
    "    for item in lst:\n",
    "        frequency[item] = frequency.get(item, 0) + 1\n",
    "    return [item for item, count in frequency.items() if count > 1]\n",
    "\n",
    "print(find_duplicates([1, 2, 2, 3, 4, 4, 5]))\n",
    "print(find_duplicates(['a', 'b', 'a', 'c', 'b', 'd']))\n",
    "print(find_duplicates([1, 1, 1, 1]))"
   ]
  }
 ],
 "metadata": {
  "kernelspec": {
   "display_name": "Python 3",
   "language": "python",
   "name": "python3"
  },
  "language_info": {
   "codemirror_mode": {
    "name": "ipython",
    "version": 3
   },
   "file_extension": ".py",
   "mimetype": "text/x-python",
   "name": "python",
   "nbconvert_exporter": "python",
   "pygments_lexer": "ipython3",
   "version": "3.12.6"
  }
 },
 "nbformat": 4,
 "nbformat_minor": 2
}
