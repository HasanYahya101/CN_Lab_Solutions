{
 "cells": [
  {
   "cell_type": "code",
   "execution_count": 1,
   "metadata": {},
   "outputs": [],
   "source": [
    "# CN Quiz 01 (22L-7971) - Hasan Yahya - BSE-6C\n",
    "def rearrange_by_frequency(lst: list) -> list:\n",
    "    for i in range(lst.__len__()):\n",
    "        num = lst[i]\n",
    "        for j in range(i+1, lst.__len__(), 1):\n",
    "            if num == lst[j]:\n",
    "                lst.pop(j)\n",
    "                lst.insert(i, num)\n",
    "    \n",
    "    return lst\n"
   ]
  },
  {
   "cell_type": "code",
   "execution_count": 2,
   "metadata": {},
   "outputs": [
    {
     "name": "stdout",
     "output_type": "stream",
     "text": [
      "[4, 4, 5, 5, 6, 3]\n"
     ]
    }
   ],
   "source": [
    "# Test Case: 01\n",
    "input_list = [4, 5, 6, 5, 4, 3] \n",
    "print(rearrange_by_frequency(input_list)) "
   ]
  },
  {
   "cell_type": "code",
   "execution_count": 3,
   "metadata": {},
   "outputs": [
    {
     "name": "stdout",
     "output_type": "stream",
     "text": [
      "[7, 7, 7, 8, 8, 9, 6]\n"
     ]
    }
   ],
   "source": [
    "# Test Case: 02\n",
    "input_list = [7, 8, 8, 9, 7, 7, 6]\n",
    "print(rearrange_by_frequency(input_list)) "
   ]
  },
  {
   "cell_type": "code",
   "execution_count": 4,
   "metadata": {},
   "outputs": [
    {
     "name": "stdout",
     "output_type": "stream",
     "text": [
      "[1, 2, 3, 4, 5]\n"
     ]
    }
   ],
   "source": [
    "# Test Case: 03\n",
    "input_list = [1, 2, 3, 4, 5]\n",
    "print(rearrange_by_frequency(input_list))"
   ]
  },
  {
   "cell_type": "code",
   "execution_count": 5,
   "metadata": {},
   "outputs": [
    {
     "name": "stdout",
     "output_type": "stream",
     "text": [
      "[10, 10, 10, 20, 20, 30, 40]\n"
     ]
    }
   ],
   "source": [
    "# Test Case: 04\n",
    "input_list = [10, 20, 10, 30, 10, 20, 40]\n",
    "print(rearrange_by_frequency(input_list)) "
   ]
  }
 ],
 "metadata": {
  "kernelspec": {
   "display_name": "Python 3",
   "language": "python",
   "name": "python3"
  },
  "language_info": {
   "codemirror_mode": {
    "name": "ipython",
    "version": 3
   },
   "file_extension": ".py",
   "mimetype": "text/x-python",
   "name": "python",
   "nbconvert_exporter": "python",
   "pygments_lexer": "ipython3",
   "version": "3.12.3"
  }
 },
 "nbformat": 4,
 "nbformat_minor": 2
}
